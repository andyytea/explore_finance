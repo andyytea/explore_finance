{
 "cells": [
  {
   "cell_type": "markdown",
   "metadata": {},
   "source": [
    "## CAPM in Python\n",
    "\n",
    "### What is CAPM?\n",
    "In finance, CAPM is known as the **Capital Asset Pricing Model** and it is widely used for pricing risky securities and generating expected returns given the risk and a \"cost of capital\". CAPM operates on a number of assumptions about how markets behave and is important mainly because most market participants adopted this framework.\n",
    "\n",
    "In modern financial theory, two major assumptions are made:\n",
    "1. Securities markets are very competitive and \"**efficient**\"\n",
    "2. These markets are dominated by **rational, risk-averse investors**, who intend to maximize their own return on investment.\n",
    "\n",
    "The issue is that in practice, investors do not always behave in such ways and there are externalities that can compromise market efficiency. Regardless, it makes sense to base investment decisions assuming that markets are efficient and dominated by rational people because the alternative is entirely unpredictable and irrational.\n",
    "\n",
    "CAPM is represented by this fundamental formula for calculating expected return of an asset given its risk:\n",
    "\n",
    "\\begin{align*} \\\\\n",
    "ER_i         &= R_f + \\beta_i (ER_m - R_f) \\\\ \\\\\n",
    "ER_i         &= \\mbox{Expected Return on Investment} \\\\\n",
    "R_f          &= \\mbox{Risk-free Rate} \\\\\n",
    "\\beta_i      &= \\mbox{Beta of the investment} \\\\\n",
    "(ER_m - R_f) &= \\mbox{Market Risk Premium} \\\\\n",
    "\\end{align*}"
   ]
  },
  {
   "cell_type": "markdown",
   "metadata": {},
   "source": [
    "## Unpacking Market Risk Premium\n",
    "\n",
    "By the definition of CAPM, we can be creative when it comes to how we interpret each of these parameters. However, the best choice of parameter is the one that you know the rest of the market would agree with because it is consistent with the underlying CAPM assumptions.\n",
    "\n",
    "### Risk-free Rate\n",
    "However, we typicaly consider the risk-free rate to be the rates offered by US treasury bills, for example we could use the three-month treasury bill (about 0.1 as  of 10/19/2020). We use the risk free rate effectively as our yardstick for the return we can expect for taking zero risk on our investment. \n",
    "\n",
    "Now, if I wanted I could disagree with saying that 3 month T-bills no longer offer zero-risk investment opportunity, but it's quite a reasonable assumption for anyone living in the US and is not of the belief that the US will suddenly fall apart within 3 months.\n",
    "\n",
    "### Expected Market Rate of Return\n",
    "This is just the return that is demanded by all market participants for taking on risk of being invested in the market. By definition, if the market becomes more risky, then they will expect higher returns for being in the market. Typically, to determine the expected market rate of return, we look to indicies like the S%P 500, Nasdaq, or the Dow Jones and take the average of historical returns.\n",
    "\n",
    "### Beta of the Investment\n",
    "This is a measure of the underlying risk for holding an investment and it is relative to the risk the broader market. In practice, we can never really put a number on the underlying risk of the market or a security. There are so many real world factors that go into determining how risky one investment is compared to the other, but often times we just use the volatility in price as a measure of the risk associated with an investment. However, it is clear that sometimes the underlying risk is not fairly represented by the volatility in prices. Regardless, we need some objective measure that we can standardize across all types of investment, and price volatility is accessible for most investments you can make.\n",
    "\n",
    "\n",
    "\\begin{align*} \\\\\n",
    "\\beta_i &= \\frac{Cov(r_i, r_m)}{Var(r_m)} \\\\ \\\\\n",
    "\\beta_i &= \\mbox{market beta of asset i} \\\\\n",
    "r_m     &= \\mbox{average expected rate of return on the market} \\\\\n",
    "r_i     &= \\mbox{expected return on an asset i} \\\\\n",
    "\\end{align*}"
   ]
  },
  {
   "cell_type": "code",
   "execution_count": 20,
   "metadata": {},
   "outputs": [],
   "source": [
    "import yfinance as yf\n",
    "import numpy as np\n",
    "import matplotlib.pyplot as plt\n",
    "\n",
    "\n",
    "## We use yfinance, it's pretty decent\n",
    "\n",
    "class CAPM:\n",
    "    def __init__(self, stock_ticker, market_ticker, year):\n",
    "        data = yf.download(\"{} {}\".format(stock_ticker, market_ticker), start=\"{}-01-01\".format(year)).dropna()\n",
    "        self.data = data[\"Adj Close\"]\n",
    "        self.year = year\n",
    "        self.stock = data[(\"Adj Close\", stock_ticker)]\n",
    "        self.market = data[(\"Adj Close\", market_ticker)]\n",
    "        self.stock_returns = self.stock.pct_change()\n",
    "        self.market_returns = self.market.pct_change()\n",
    "        self.beta = self.market_returns.cov(self.stock_returns)/self.market_returns.var()\n",
    "        self.e_mrr = (self.market[-1]/self.market[0])**(1/(2020-int(self.year)))-1\n",
    "    \n",
    "    def expected_rate(self):\n",
    "        rf = 0.01 ##we can just plug some arbitrary rate from the US treasury most likely\n",
    "        e_rr = rf + self.beta*(self.e_mrr - rf)\n",
    "        return e_rr"
   ]
  },
  {
   "cell_type": "markdown",
   "metadata": {},
   "source": [
    "**Note**: today, CAPM assumptions are detached from the reality of the market how people behave because of the ability for small groups of market participants to apply virtually infinite leverage on their influence through the internet. Markets are ultimately driven by the decisons of people (and adaptive models), if people can be convinced to behave in a predictable manner, there is a clear way to generate alpha. To be fair, it is a framework for pricing assets that dates back to the 1960s."
   ]
  },
  {
   "cell_type": "code",
   "execution_count": 21,
   "metadata": {},
   "outputs": [
    {
     "name": "stdout",
     "output_type": "stream",
     "text": [
      "[*********************100%***********************]  2 of 2 completed\n"
     ]
    }
   ],
   "source": [
    "beta_TSLA = CAPM(\"TSLA\",\"^IXIC\", \"2015\") ## compared to nasdaq"
   ]
  },
  {
   "cell_type": "code",
   "execution_count": 22,
   "metadata": {},
   "outputs": [
    {
     "data": {
      "text/plain": [
       "0.23378255487675764"
      ]
     },
     "execution_count": 22,
     "metadata": {},
     "output_type": "execute_result"
    }
   ],
   "source": [
    "beta_TSLA.expected_rate()"
   ]
  },
  {
   "cell_type": "code",
   "execution_count": null,
   "metadata": {},
   "outputs": [],
   "source": [
    "plt.figure(figsize=(20,10))\n",
    "plt.plot((beta_TSLA.data-beta_TSLA.data.mean())/beta_TSLA.data.std())\n",
    "plt.xlabel(\"Date\")\n",
    "plt.ylabel(\"Adjusted\")\n",
    "plt.title(\"TSLA vs. Nasdaq Price data (norm)\")\n",
    "plt.show()"
   ]
  },
  {
   "cell_type": "code",
   "execution_count": null,
   "metadata": {},
   "outputs": [],
   "source": []
  }
 ],
 "metadata": {
  "kernelspec": {
   "display_name": "data_env",
   "language": "python",
   "name": "data_env"
  },
  "language_info": {
   "codemirror_mode": {
    "name": "ipython",
    "version": 3
   },
   "file_extension": ".py",
   "mimetype": "text/x-python",
   "name": "python",
   "nbconvert_exporter": "python",
   "pygments_lexer": "ipython3",
   "version": "3.8.5"
  }
 },
 "nbformat": 4,
 "nbformat_minor": 4
}
