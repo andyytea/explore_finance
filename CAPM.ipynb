{
 "cells": [
  {
   "cell_type": "markdown",
   "metadata": {},
   "source": [
    "## CAPM in Python\n",
    "\n",
    "### What is CAPM?\n",
    "In finance, CAPM is known as the **Capital Asset Pricing Model** and it is widely used for pricing risky securities and generating expected returns given the risk and a \"cost of capital\". CAPM operates on a number of assumptions about how markets behave and is important mainly because most market participants adopted this framework.\n",
    "\n",
    "In modern financial theory, two major assumptions are made:\n",
    "1. Securities markets are very competitive and \"**efficient**\"\n",
    "2. These markets are dominated by **rational, risk-averse investors**, who intend to maximize their own return on investment.\n",
    "\n",
    "The issue is that in practice, investors do not always behave in such ways and there are externalities that can compromise market efficiency. Regardless, it makes sense to base investment decisions assuming that markets are efficient and dominated by rational people because the alternative is entirely unpredictable and irrational.\n",
    "\n",
    "The CAP Model is represented by this fundamental formula for calculating expected return of an asset given its risk:\n",
    "<br><br> $ER_i = R_f + \\beta_i (ER_m - R_f)$ <br><br>\n",
    "$ER_i =$ expected return on investment <br>\n",
    "$R_f =$ risk-free rate <br>\n",
    "$\\beta_i =$ beta of the investment <br>\n",
    "$(ER_m - R_f) =$ market risk premium <br>"
   ]
  },
  {
   "cell_type": "code",
   "execution_count": 6,
   "metadata": {},
   "outputs": [],
   "source": [
    "import numpy as np\n",
    "import pandas as pd\n",
    "import matplotlib as plt"
   ]
  },
  {
   "cell_type": "code",
   "execution_count": null,
   "metadata": {},
   "outputs": [],
   "source": []
  }
 ],
 "metadata": {
  "kernelspec": {
   "display_name": "data_env",
   "language": "python",
   "name": "data_env"
  },
  "language_info": {
   "codemirror_mode": {
    "name": "ipython",
    "version": 3
   },
   "file_extension": ".py",
   "mimetype": "text/x-python",
   "name": "python",
   "nbconvert_exporter": "python",
   "pygments_lexer": "ipython3",
   "version": "3.8.5"
  }
 },
 "nbformat": 4,
 "nbformat_minor": 4
}
